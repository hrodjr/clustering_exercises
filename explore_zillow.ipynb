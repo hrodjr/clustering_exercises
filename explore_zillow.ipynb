{
 "cells": [
  {
   "cell_type": "code",
   "execution_count": 36,
   "id": "a2d6f1c2",
   "metadata": {},
   "outputs": [],
   "source": [
    "# ignore warnings\n",
    "import warnings\n",
    "warnings.filterwarnings(\"ignore\")\n",
    "\n",
    "import pandas as pd\n",
    "import numpy as np\n",
    "from datetime import date\n",
    "\n",
    "import acq\n",
    "import env\n",
    "\n",
    "# Exploring\n",
    "import scipy.stats as stats\n",
    "from sklearn.model_selection import train_test_split\n",
    "\n",
    "# Visualizing\n",
    "%matplotlib inline\n",
    "import matplotlib.pyplot as plt\n",
    "import seaborn as sns\n",
    "\n",
    "# default pandas decimal number display format\n",
    "pd.options.display.float_format = '{:20,.2f}'.format"
   ]
  },
  {
   "cell_type": "code",
   "execution_count": 2,
   "id": "d3128d8a",
   "metadata": {},
   "outputs": [
    {
     "data": {
      "text/html": [
       "<div>\n",
       "<style scoped>\n",
       "    .dataframe tbody tr th:only-of-type {\n",
       "        vertical-align: middle;\n",
       "    }\n",
       "\n",
       "    .dataframe tbody tr th {\n",
       "        vertical-align: top;\n",
       "    }\n",
       "\n",
       "    .dataframe thead th {\n",
       "        text-align: right;\n",
       "    }\n",
       "</style>\n",
       "<table border=\"1\" class=\"dataframe\">\n",
       "  <thead>\n",
       "    <tr style=\"text-align: right;\">\n",
       "      <th></th>\n",
       "      <th>parcelid</th>\n",
       "      <th>typeconstructiontypeid</th>\n",
       "      <th>storytypeid</th>\n",
       "      <th>propertylandusetypeid</th>\n",
       "      <th>heatingorsystemtypeid</th>\n",
       "      <th>buildingclasstypeid</th>\n",
       "      <th>architecturalstyletypeid</th>\n",
       "      <th>airconditioningtypeid</th>\n",
       "      <th>id</th>\n",
       "      <th>basementsqft</th>\n",
       "      <th>...</th>\n",
       "      <th>id</th>\n",
       "      <th>logerror</th>\n",
       "      <th>transactiondate</th>\n",
       "      <th>airconditioningdesc</th>\n",
       "      <th>architecturalstyledesc</th>\n",
       "      <th>buildingclassdesc</th>\n",
       "      <th>heatingorsystemdesc</th>\n",
       "      <th>propertylandusedesc</th>\n",
       "      <th>storydesc</th>\n",
       "      <th>typeconstructiondesc</th>\n",
       "    </tr>\n",
       "  </thead>\n",
       "  <tbody>\n",
       "    <tr>\n",
       "      <th>0</th>\n",
       "      <td>14297519</td>\n",
       "      <td>NaN</td>\n",
       "      <td>NaN</td>\n",
       "      <td>261.00</td>\n",
       "      <td>NaN</td>\n",
       "      <td>NaN</td>\n",
       "      <td>NaN</td>\n",
       "      <td>NaN</td>\n",
       "      <td>1727539</td>\n",
       "      <td>NaN</td>\n",
       "      <td>...</td>\n",
       "      <td>0</td>\n",
       "      <td>0.03</td>\n",
       "      <td>2017-01-01</td>\n",
       "      <td>None</td>\n",
       "      <td>None</td>\n",
       "      <td>None</td>\n",
       "      <td>None</td>\n",
       "      <td>Single Family Residential</td>\n",
       "      <td>None</td>\n",
       "      <td>None</td>\n",
       "    </tr>\n",
       "    <tr>\n",
       "      <th>1</th>\n",
       "      <td>17052889</td>\n",
       "      <td>NaN</td>\n",
       "      <td>NaN</td>\n",
       "      <td>261.00</td>\n",
       "      <td>NaN</td>\n",
       "      <td>NaN</td>\n",
       "      <td>NaN</td>\n",
       "      <td>NaN</td>\n",
       "      <td>1387261</td>\n",
       "      <td>NaN</td>\n",
       "      <td>...</td>\n",
       "      <td>1</td>\n",
       "      <td>0.06</td>\n",
       "      <td>2017-01-01</td>\n",
       "      <td>None</td>\n",
       "      <td>None</td>\n",
       "      <td>None</td>\n",
       "      <td>None</td>\n",
       "      <td>Single Family Residential</td>\n",
       "      <td>None</td>\n",
       "      <td>None</td>\n",
       "    </tr>\n",
       "  </tbody>\n",
       "</table>\n",
       "<p>2 rows × 69 columns</p>\n",
       "</div>"
      ],
      "text/plain": [
       "   parcelid  typeconstructiontypeid  storytypeid  propertylandusetypeid  \\\n",
       "0  14297519                     NaN          NaN                 261.00   \n",
       "1  17052889                     NaN          NaN                 261.00   \n",
       "\n",
       "   heatingorsystemtypeid  buildingclasstypeid  architecturalstyletypeid  \\\n",
       "0                    NaN                  NaN                       NaN   \n",
       "1                    NaN                  NaN                       NaN   \n",
       "\n",
       "   airconditioningtypeid       id  basementsqft  ...  id             logerror  \\\n",
       "0                    NaN  1727539           NaN  ...   0                 0.03   \n",
       "1                    NaN  1387261           NaN  ...   1                 0.06   \n",
       "\n",
       "   transactiondate  airconditioningdesc  architecturalstyledesc  \\\n",
       "0       2017-01-01                 None                    None   \n",
       "1       2017-01-01                 None                    None   \n",
       "\n",
       "   buildingclassdesc  heatingorsystemdesc        propertylandusedesc  \\\n",
       "0               None                 None  Single Family Residential   \n",
       "1               None                 None  Single Family Residential   \n",
       "\n",
       "   storydesc  typeconstructiondesc  \n",
       "0       None                  None  \n",
       "1       None                  None  \n",
       "\n",
       "[2 rows x 69 columns]"
      ]
     },
     "execution_count": 2,
     "metadata": {},
     "output_type": "execute_result"
    }
   ],
   "source": [
    "df = acq.get_zillow_data()\n",
    "df.head(2)"
   ]
  },
  {
   "cell_type": "code",
   "execution_count": 3,
   "id": "b12c613f",
   "metadata": {},
   "outputs": [
    {
     "data": {
      "text/html": [
       "<div>\n",
       "<style scoped>\n",
       "    .dataframe tbody tr th:only-of-type {\n",
       "        vertical-align: middle;\n",
       "    }\n",
       "\n",
       "    .dataframe tbody tr th {\n",
       "        vertical-align: top;\n",
       "    }\n",
       "\n",
       "    .dataframe thead th {\n",
       "        text-align: right;\n",
       "    }\n",
       "</style>\n",
       "<table border=\"1\" class=\"dataframe\">\n",
       "  <thead>\n",
       "    <tr style=\"text-align: right;\">\n",
       "      <th></th>\n",
       "      <th>parcelid</th>\n",
       "      <th>typeconstructiontypeid</th>\n",
       "      <th>storytypeid</th>\n",
       "      <th>propertylandusetypeid</th>\n",
       "      <th>heatingorsystemtypeid</th>\n",
       "      <th>buildingclasstypeid</th>\n",
       "      <th>architecturalstyletypeid</th>\n",
       "      <th>airconditioningtypeid</th>\n",
       "      <th>id</th>\n",
       "      <th>basementsqft</th>\n",
       "      <th>...</th>\n",
       "      <th>id</th>\n",
       "      <th>logerror</th>\n",
       "      <th>transactiondate</th>\n",
       "      <th>airconditioningdesc</th>\n",
       "      <th>architecturalstyledesc</th>\n",
       "      <th>buildingclassdesc</th>\n",
       "      <th>heatingorsystemdesc</th>\n",
       "      <th>propertylandusedesc</th>\n",
       "      <th>storydesc</th>\n",
       "      <th>typeconstructiondesc</th>\n",
       "    </tr>\n",
       "  </thead>\n",
       "  <tbody>\n",
       "    <tr>\n",
       "      <th>1113</th>\n",
       "      <td>11871192</td>\n",
       "      <td>NaN</td>\n",
       "      <td>NaN</td>\n",
       "      <td>266.00</td>\n",
       "      <td>2.00</td>\n",
       "      <td>NaN</td>\n",
       "      <td>NaN</td>\n",
       "      <td>1.00</td>\n",
       "      <td>2361444</td>\n",
       "      <td>NaN</td>\n",
       "      <td>...</td>\n",
       "      <td>1115</td>\n",
       "      <td>0.01</td>\n",
       "      <td>2017-01-05</td>\n",
       "      <td>Central</td>\n",
       "      <td>None</td>\n",
       "      <td>None</td>\n",
       "      <td>Central</td>\n",
       "      <td>Condominium</td>\n",
       "      <td>None</td>\n",
       "      <td>None</td>\n",
       "    </tr>\n",
       "    <tr>\n",
       "      <th>75345</th>\n",
       "      <td>14442954</td>\n",
       "      <td>NaN</td>\n",
       "      <td>NaN</td>\n",
       "      <td>261.00</td>\n",
       "      <td>NaN</td>\n",
       "      <td>NaN</td>\n",
       "      <td>NaN</td>\n",
       "      <td>NaN</td>\n",
       "      <td>877590</td>\n",
       "      <td>NaN</td>\n",
       "      <td>...</td>\n",
       "      <td>75379</td>\n",
       "      <td>0.03</td>\n",
       "      <td>2017-09-11</td>\n",
       "      <td>None</td>\n",
       "      <td>None</td>\n",
       "      <td>None</td>\n",
       "      <td>None</td>\n",
       "      <td>Single Family Residential</td>\n",
       "      <td>None</td>\n",
       "      <td>None</td>\n",
       "    </tr>\n",
       "  </tbody>\n",
       "</table>\n",
       "<p>2 rows × 69 columns</p>\n",
       "</div>"
      ],
      "text/plain": [
       "       parcelid  typeconstructiontypeid  storytypeid  propertylandusetypeid  \\\n",
       "1113   11871192                     NaN          NaN                 266.00   \n",
       "75345  14442954                     NaN          NaN                 261.00   \n",
       "\n",
       "       heatingorsystemtypeid  buildingclasstypeid  architecturalstyletypeid  \\\n",
       "1113                    2.00                  NaN                       NaN   \n",
       "75345                    NaN                  NaN                       NaN   \n",
       "\n",
       "       airconditioningtypeid       id  basementsqft  ...     id  \\\n",
       "1113                    1.00  2361444           NaN  ...   1115   \n",
       "75345                    NaN   877590           NaN  ...  75379   \n",
       "\n",
       "                  logerror  transactiondate  airconditioningdesc  \\\n",
       "1113                  0.01       2017-01-05              Central   \n",
       "75345                 0.03       2017-09-11                 None   \n",
       "\n",
       "       architecturalstyledesc  buildingclassdesc  heatingorsystemdesc  \\\n",
       "1113                     None               None              Central   \n",
       "75345                    None               None                 None   \n",
       "\n",
       "             propertylandusedesc  storydesc  typeconstructiondesc  \n",
       "1113                 Condominium       None                  None  \n",
       "75345  Single Family Residential       None                  None  \n",
       "\n",
       "[2 rows x 69 columns]"
      ]
     },
     "execution_count": 3,
     "metadata": {},
     "output_type": "execute_result"
    }
   ],
   "source": [
    "df = df.sample(5000)\n",
    "df.head(2)"
   ]
  },
  {
   "cell_type": "code",
   "execution_count": 4,
   "id": "90ea2421",
   "metadata": {},
   "outputs": [
    {
     "data": {
      "text/plain": [
       "(5000, 69)"
      ]
     },
     "execution_count": 4,
     "metadata": {},
     "output_type": "execute_result"
    }
   ],
   "source": [
    "df.shape"
   ]
  },
  {
   "cell_type": "code",
   "execution_count": 5,
   "id": "ad782b44",
   "metadata": {},
   "outputs": [],
   "source": [
    "def handle_missing_values(df, prop_required_column = .5, prop_required_row = .70):\n",
    "#function that will drop rows or columns based on the percent of values that are missing:\\\n",
    "#handle_missing_values(df, prop_required_column, prop_required_row\n",
    "    threshold = int(round(prop_required_column*len(df.index),0))\n",
    "    df = df.dropna(axis=1, thresh=threshold)\n",
    "    threshold = int(round(prop_required_row*len(df.columns),0))\n",
    "    df.dropna(axis=0, thresh=threshold, inplace=True)\n",
    "    return df"
   ]
  },
  {
   "cell_type": "code",
   "execution_count": 6,
   "id": "4fdd6efd",
   "metadata": {},
   "outputs": [
    {
     "data": {
      "text/html": [
       "<div>\n",
       "<style scoped>\n",
       "    .dataframe tbody tr th:only-of-type {\n",
       "        vertical-align: middle;\n",
       "    }\n",
       "\n",
       "    .dataframe tbody tr th {\n",
       "        vertical-align: top;\n",
       "    }\n",
       "\n",
       "    .dataframe thead th {\n",
       "        text-align: right;\n",
       "    }\n",
       "</style>\n",
       "<table border=\"1\" class=\"dataframe\">\n",
       "  <thead>\n",
       "    <tr style=\"text-align: right;\">\n",
       "      <th></th>\n",
       "      <th>parcelid</th>\n",
       "      <th>propertylandusetypeid</th>\n",
       "      <th>heatingorsystemtypeid</th>\n",
       "      <th>id</th>\n",
       "      <th>bathroomcnt</th>\n",
       "      <th>bedroomcnt</th>\n",
       "      <th>buildingqualitytypeid</th>\n",
       "      <th>calculatedbathnbr</th>\n",
       "      <th>calculatedfinishedsquarefeet</th>\n",
       "      <th>finishedsquarefeet12</th>\n",
       "      <th>...</th>\n",
       "      <th>taxvaluedollarcnt</th>\n",
       "      <th>assessmentyear</th>\n",
       "      <th>landtaxvaluedollarcnt</th>\n",
       "      <th>taxamount</th>\n",
       "      <th>censustractandblock</th>\n",
       "      <th>id</th>\n",
       "      <th>logerror</th>\n",
       "      <th>transactiondate</th>\n",
       "      <th>heatingorsystemdesc</th>\n",
       "      <th>propertylandusedesc</th>\n",
       "    </tr>\n",
       "  </thead>\n",
       "  <tbody>\n",
       "    <tr>\n",
       "      <th>1113</th>\n",
       "      <td>11871192</td>\n",
       "      <td>266.00</td>\n",
       "      <td>2.00</td>\n",
       "      <td>2361444</td>\n",
       "      <td>1.00</td>\n",
       "      <td>1.00</td>\n",
       "      <td>8.00</td>\n",
       "      <td>1.00</td>\n",
       "      <td>795.00</td>\n",
       "      <td>795.00</td>\n",
       "      <td>...</td>\n",
       "      <td>282,954.00</td>\n",
       "      <td>2,016.00</td>\n",
       "      <td>159,196.00</td>\n",
       "      <td>3,478.40</td>\n",
       "      <td>60,372,013,022,000.00</td>\n",
       "      <td>1115</td>\n",
       "      <td>0.01</td>\n",
       "      <td>2017-01-05</td>\n",
       "      <td>Central</td>\n",
       "      <td>Condominium</td>\n",
       "    </tr>\n",
       "    <tr>\n",
       "      <th>75345</th>\n",
       "      <td>14442954</td>\n",
       "      <td>261.00</td>\n",
       "      <td>NaN</td>\n",
       "      <td>877590</td>\n",
       "      <td>2.50</td>\n",
       "      <td>3.00</td>\n",
       "      <td>NaN</td>\n",
       "      <td>2.50</td>\n",
       "      <td>1,825.00</td>\n",
       "      <td>1,825.00</td>\n",
       "      <td>...</td>\n",
       "      <td>845,908.00</td>\n",
       "      <td>2,016.00</td>\n",
       "      <td>637,793.00</td>\n",
       "      <td>9,695.64</td>\n",
       "      <td>60,590,423,392,002.00</td>\n",
       "      <td>75379</td>\n",
       "      <td>0.03</td>\n",
       "      <td>2017-09-11</td>\n",
       "      <td>None</td>\n",
       "      <td>Single Family Residential</td>\n",
       "    </tr>\n",
       "    <tr>\n",
       "      <th>10529</th>\n",
       "      <td>14667466</td>\n",
       "      <td>266.00</td>\n",
       "      <td>NaN</td>\n",
       "      <td>788639</td>\n",
       "      <td>1.00</td>\n",
       "      <td>1.00</td>\n",
       "      <td>NaN</td>\n",
       "      <td>1.00</td>\n",
       "      <td>678.00</td>\n",
       "      <td>678.00</td>\n",
       "      <td>...</td>\n",
       "      <td>294,422.00</td>\n",
       "      <td>2,016.00</td>\n",
       "      <td>218,957.00</td>\n",
       "      <td>3,732.56</td>\n",
       "      <td>60,590,756,054,012.00</td>\n",
       "      <td>10538</td>\n",
       "      <td>-0.04</td>\n",
       "      <td>2017-02-16</td>\n",
       "      <td>None</td>\n",
       "      <td>Condominium</td>\n",
       "    </tr>\n",
       "    <tr>\n",
       "      <th>26337</th>\n",
       "      <td>11488432</td>\n",
       "      <td>261.00</td>\n",
       "      <td>2.00</td>\n",
       "      <td>1077439</td>\n",
       "      <td>3.00</td>\n",
       "      <td>4.00</td>\n",
       "      <td>9.00</td>\n",
       "      <td>3.00</td>\n",
       "      <td>2,891.00</td>\n",
       "      <td>2,891.00</td>\n",
       "      <td>...</td>\n",
       "      <td>1,293,500.00</td>\n",
       "      <td>2,016.00</td>\n",
       "      <td>969,700.00</td>\n",
       "      <td>15,250.74</td>\n",
       "      <td>60,376,205,222,002.00</td>\n",
       "      <td>26350</td>\n",
       "      <td>0.01</td>\n",
       "      <td>2017-04-14</td>\n",
       "      <td>Central</td>\n",
       "      <td>Single Family Residential</td>\n",
       "    </tr>\n",
       "    <tr>\n",
       "      <th>76037</th>\n",
       "      <td>12682581</td>\n",
       "      <td>266.00</td>\n",
       "      <td>2.00</td>\n",
       "      <td>192882</td>\n",
       "      <td>4.00</td>\n",
       "      <td>4.00</td>\n",
       "      <td>11.00</td>\n",
       "      <td>4.00</td>\n",
       "      <td>2,520.00</td>\n",
       "      <td>2,520.00</td>\n",
       "      <td>...</td>\n",
       "      <td>870,000.00</td>\n",
       "      <td>2,016.00</td>\n",
       "      <td>348,400.00</td>\n",
       "      <td>9,890.20</td>\n",
       "      <td>60,376,513,021,011.00</td>\n",
       "      <td>76071</td>\n",
       "      <td>0.06</td>\n",
       "      <td>2017-09-13</td>\n",
       "      <td>Central</td>\n",
       "      <td>Condominium</td>\n",
       "    </tr>\n",
       "  </tbody>\n",
       "</table>\n",
       "<p>5 rows × 35 columns</p>\n",
       "</div>"
      ],
      "text/plain": [
       "       parcelid  propertylandusetypeid  heatingorsystemtypeid       id  \\\n",
       "1113   11871192                 266.00                   2.00  2361444   \n",
       "75345  14442954                 261.00                    NaN   877590   \n",
       "10529  14667466                 266.00                    NaN   788639   \n",
       "26337  11488432                 261.00                   2.00  1077439   \n",
       "76037  12682581                 266.00                   2.00   192882   \n",
       "\n",
       "               bathroomcnt           bedroomcnt  buildingqualitytypeid  \\\n",
       "1113                  1.00                 1.00                   8.00   \n",
       "75345                 2.50                 3.00                    NaN   \n",
       "10529                 1.00                 1.00                    NaN   \n",
       "26337                 3.00                 4.00                   9.00   \n",
       "76037                 4.00                 4.00                  11.00   \n",
       "\n",
       "         calculatedbathnbr  calculatedfinishedsquarefeet  \\\n",
       "1113                  1.00                        795.00   \n",
       "75345                 2.50                      1,825.00   \n",
       "10529                 1.00                        678.00   \n",
       "26337                 3.00                      2,891.00   \n",
       "76037                 4.00                      2,520.00   \n",
       "\n",
       "       finishedsquarefeet12  ...    taxvaluedollarcnt       assessmentyear  \\\n",
       "1113                 795.00  ...           282,954.00             2,016.00   \n",
       "75345              1,825.00  ...           845,908.00             2,016.00   \n",
       "10529                678.00  ...           294,422.00             2,016.00   \n",
       "26337              2,891.00  ...         1,293,500.00             2,016.00   \n",
       "76037              2,520.00  ...           870,000.00             2,016.00   \n",
       "\n",
       "       landtaxvaluedollarcnt            taxamount   censustractandblock  \\\n",
       "1113              159,196.00             3,478.40 60,372,013,022,000.00   \n",
       "75345             637,793.00             9,695.64 60,590,423,392,002.00   \n",
       "10529             218,957.00             3,732.56 60,590,756,054,012.00   \n",
       "26337             969,700.00            15,250.74 60,376,205,222,002.00   \n",
       "76037             348,400.00             9,890.20 60,376,513,021,011.00   \n",
       "\n",
       "          id             logerror  transactiondate  heatingorsystemdesc  \\\n",
       "1113    1115                 0.01       2017-01-05              Central   \n",
       "75345  75379                 0.03       2017-09-11                 None   \n",
       "10529  10538                -0.04       2017-02-16                 None   \n",
       "26337  26350                 0.01       2017-04-14              Central   \n",
       "76037  76071                 0.06       2017-09-13              Central   \n",
       "\n",
       "             propertylandusedesc  \n",
       "1113                 Condominium  \n",
       "75345  Single Family Residential  \n",
       "10529                Condominium  \n",
       "26337  Single Family Residential  \n",
       "76037                Condominium  \n",
       "\n",
       "[5 rows x 35 columns]"
      ]
     },
     "execution_count": 6,
     "metadata": {},
     "output_type": "execute_result"
    }
   ],
   "source": [
    "df = handle_missing_values(df, prop_required_column = .5, prop_required_row = .70)\n",
    "df.head()"
   ]
  },
  {
   "cell_type": "code",
   "execution_count": 7,
   "id": "80ff5750",
   "metadata": {},
   "outputs": [
    {
     "data": {
      "text/plain": [
       "(4998, 35)"
      ]
     },
     "execution_count": 7,
     "metadata": {},
     "output_type": "execute_result"
    }
   ],
   "source": [
    "df.shape"
   ]
  },
  {
   "cell_type": "code",
   "execution_count": 8,
   "id": "8917a076",
   "metadata": {},
   "outputs": [
    {
     "name": "stdout",
     "output_type": "stream",
     "text": [
      "<class 'pandas.core.frame.DataFrame'>\n",
      "Int64Index: 4998 entries, 1113 to 41622\n",
      "Data columns (total 35 columns):\n",
      " #   Column                        Non-Null Count  Dtype  \n",
      "---  ------                        --------------  -----  \n",
      " 0   parcelid                      4998 non-null   int64  \n",
      " 1   propertylandusetypeid         4998 non-null   float64\n",
      " 2   heatingorsystemtypeid         3162 non-null   float64\n",
      " 3   id                            4998 non-null   int64  \n",
      " 4   bathroomcnt                   4998 non-null   float64\n",
      " 5   bedroomcnt                    4998 non-null   float64\n",
      " 6   buildingqualitytypeid         3181 non-null   float64\n",
      " 7   calculatedbathnbr             4961 non-null   float64\n",
      " 8   calculatedfinishedsquarefeet  4983 non-null   float64\n",
      " 9   finishedsquarefeet12          4758 non-null   float64\n",
      " 10  fips                          4998 non-null   float64\n",
      " 11  fullbathcnt                   4961 non-null   float64\n",
      " 12  latitude                      4998 non-null   float64\n",
      " 13  longitude                     4998 non-null   float64\n",
      " 14  lotsizesquarefeet             4476 non-null   float64\n",
      " 15  propertycountylandusecode     4998 non-null   object \n",
      " 16  propertyzoningdesc            3217 non-null   object \n",
      " 17  rawcensustractandblock        4998 non-null   float64\n",
      " 18  regionidcity                  4892 non-null   float64\n",
      " 19  regionidcounty                4998 non-null   float64\n",
      " 20  regionidzip                   4995 non-null   float64\n",
      " 21  roomcnt                       4998 non-null   float64\n",
      " 22  unitcnt                       3222 non-null   float64\n",
      " 23  yearbuilt                     4983 non-null   float64\n",
      " 24  structuretaxvaluedollarcnt    4992 non-null   float64\n",
      " 25  taxvaluedollarcnt             4998 non-null   float64\n",
      " 26  assessmentyear                4998 non-null   float64\n",
      " 27  landtaxvaluedollarcnt         4998 non-null   float64\n",
      " 28  taxamount                     4998 non-null   float64\n",
      " 29  censustractandblock           4983 non-null   float64\n",
      " 30  id                            4998 non-null   int64  \n",
      " 31  logerror                      4998 non-null   float64\n",
      " 32  transactiondate               4998 non-null   object \n",
      " 33  heatingorsystemdesc           3162 non-null   object \n",
      " 34  propertylandusedesc           4998 non-null   object \n",
      "dtypes: float64(27), int64(3), object(5)\n",
      "memory usage: 1.4+ MB\n"
     ]
    }
   ],
   "source": [
    "df.info()"
   ]
  },
  {
   "cell_type": "code",
   "execution_count": 9,
   "id": "268bcffa",
   "metadata": {},
   "outputs": [],
   "source": [
    " df['heatingorsystemtypeid'] = df.heatingorsystemtypeid.fillna(value = df['heatingorsystemtypeid'].mean())"
   ]
  },
  {
   "cell_type": "code",
   "execution_count": 10,
   "id": "cabfbb75",
   "metadata": {},
   "outputs": [],
   "source": [
    " df['buildingqualitytypeid'] = df.buildingqualitytypeid.fillna(value = df['buildingqualitytypeid'].mean())"
   ]
  },
  {
   "cell_type": "code",
   "execution_count": 11,
   "id": "d9f58811",
   "metadata": {},
   "outputs": [],
   "source": [
    " df['calculatedbathnbr'] = df.calculatedbathnbr.fillna(value = df['calculatedbathnbr'].mean())"
   ]
  },
  {
   "cell_type": "code",
   "execution_count": 12,
   "id": "6d17e6db",
   "metadata": {},
   "outputs": [],
   "source": [
    " df['calculatedfinishedsquarefeet'] = df.calculatedfinishedsquarefeet.fillna(value = df['calculatedfinishedsquarefeet'].mean())"
   ]
  },
  {
   "cell_type": "code",
   "execution_count": 13,
   "id": "3a6b2bd2",
   "metadata": {},
   "outputs": [],
   "source": [
    " df['finishedsquarefeet12'] = df.finishedsquarefeet12.fillna(value = df['finishedsquarefeet12'].mean())"
   ]
  },
  {
   "cell_type": "code",
   "execution_count": 14,
   "id": "fb8e8b3e",
   "metadata": {},
   "outputs": [],
   "source": [
    " df['fullbathcnt'] = df.fullbathcnt.fillna(value = df['fullbathcnt'].mean())"
   ]
  },
  {
   "cell_type": "code",
   "execution_count": 15,
   "id": "2d37078e",
   "metadata": {},
   "outputs": [],
   "source": [
    " df['lotsizesquarefeet'] = df.lotsizesquarefeet.fillna(value = df['lotsizesquarefeet'].mean())"
   ]
  },
  {
   "cell_type": "code",
   "execution_count": 16,
   "id": "e6da724e",
   "metadata": {},
   "outputs": [],
   "source": [
    "df = df.drop(columns=['propertyzoningdesc'])"
   ]
  },
  {
   "cell_type": "code",
   "execution_count": 17,
   "id": "4462db06",
   "metadata": {},
   "outputs": [],
   "source": [
    "df['regionidcity'] = df.regionidcity.fillna(value = df['regionidcity'].mode())"
   ]
  },
  {
   "cell_type": "code",
   "execution_count": 18,
   "id": "a6ece658",
   "metadata": {},
   "outputs": [],
   "source": [
    "df['regionidzip'] = df.regionidzip.fillna(value = df['regionidzip'].mode())"
   ]
  },
  {
   "cell_type": "code",
   "execution_count": 19,
   "id": "d1a4ec63",
   "metadata": {},
   "outputs": [],
   "source": [
    "df['unitcnt'] = df.unitcnt.fillna(value = df['unitcnt'].mean())"
   ]
  },
  {
   "cell_type": "code",
   "execution_count": 20,
   "id": "df511365",
   "metadata": {},
   "outputs": [],
   "source": [
    "df['yearbuilt'] = df.yearbuilt.fillna(value = df['yearbuilt'].mode())"
   ]
  },
  {
   "cell_type": "code",
   "execution_count": 21,
   "id": "7152f033",
   "metadata": {},
   "outputs": [],
   "source": [
    "df['structuretaxvaluedollarcnt'] = df.structuretaxvaluedollarcnt.fillna(value = df['structuretaxvaluedollarcnt'].mean())"
   ]
  },
  {
   "cell_type": "code",
   "execution_count": 22,
   "id": "6adc6a54",
   "metadata": {},
   "outputs": [],
   "source": [
    "df['censustractandblock'] = df.censustractandblock.fillna(value = df['censustractandblock'].mean())"
   ]
  },
  {
   "cell_type": "code",
   "execution_count": 23,
   "id": "7bb65dd9",
   "metadata": {},
   "outputs": [],
   "source": [
    "df = df.drop(columns=['heatingorsystemdesc'])"
   ]
  },
  {
   "cell_type": "code",
   "execution_count": 24,
   "id": "79ce82a9",
   "metadata": {},
   "outputs": [
    {
     "name": "stdout",
     "output_type": "stream",
     "text": [
      "<class 'pandas.core.frame.DataFrame'>\n",
      "Int64Index: 4998 entries, 1113 to 41622\n",
      "Data columns (total 33 columns):\n",
      " #   Column                        Non-Null Count  Dtype  \n",
      "---  ------                        --------------  -----  \n",
      " 0   parcelid                      4998 non-null   int64  \n",
      " 1   propertylandusetypeid         4998 non-null   float64\n",
      " 2   heatingorsystemtypeid         4998 non-null   float64\n",
      " 3   id                            4998 non-null   int64  \n",
      " 4   bathroomcnt                   4998 non-null   float64\n",
      " 5   bedroomcnt                    4998 non-null   float64\n",
      " 6   buildingqualitytypeid         4998 non-null   float64\n",
      " 7   calculatedbathnbr             4998 non-null   float64\n",
      " 8   calculatedfinishedsquarefeet  4998 non-null   float64\n",
      " 9   finishedsquarefeet12          4998 non-null   float64\n",
      " 10  fips                          4998 non-null   float64\n",
      " 11  fullbathcnt                   4998 non-null   float64\n",
      " 12  latitude                      4998 non-null   float64\n",
      " 13  longitude                     4998 non-null   float64\n",
      " 14  lotsizesquarefeet             4998 non-null   float64\n",
      " 15  propertycountylandusecode     4998 non-null   object \n",
      " 16  rawcensustractandblock        4998 non-null   float64\n",
      " 17  regionidcity                  4892 non-null   float64\n",
      " 18  regionidcounty                4998 non-null   float64\n",
      " 19  regionidzip                   4995 non-null   float64\n",
      " 20  roomcnt                       4998 non-null   float64\n",
      " 21  unitcnt                       4998 non-null   float64\n",
      " 22  yearbuilt                     4983 non-null   float64\n",
      " 23  structuretaxvaluedollarcnt    4998 non-null   float64\n",
      " 24  taxvaluedollarcnt             4998 non-null   float64\n",
      " 25  assessmentyear                4998 non-null   float64\n",
      " 26  landtaxvaluedollarcnt         4998 non-null   float64\n",
      " 27  taxamount                     4998 non-null   float64\n",
      " 28  censustractandblock           4998 non-null   float64\n",
      " 29  id                            4998 non-null   int64  \n",
      " 30  logerror                      4998 non-null   float64\n",
      " 31  transactiondate               4998 non-null   object \n",
      " 32  propertylandusedesc           4998 non-null   object \n",
      "dtypes: float64(27), int64(3), object(3)\n",
      "memory usage: 1.3+ MB\n"
     ]
    }
   ],
   "source": [
    "df.info()"
   ]
  },
  {
   "cell_type": "code",
   "execution_count": 25,
   "id": "a1723f65",
   "metadata": {},
   "outputs": [],
   "source": [
    "df = df.drop(columns=['regionidcity', 'regionidcounty', 'regionidzip'])"
   ]
  },
  {
   "cell_type": "code",
   "execution_count": 26,
   "id": "6cbe932d",
   "metadata": {},
   "outputs": [
    {
     "name": "stdout",
     "output_type": "stream",
     "text": [
      "<class 'pandas.core.frame.DataFrame'>\n",
      "Int64Index: 4998 entries, 1113 to 41622\n",
      "Data columns (total 30 columns):\n",
      " #   Column                        Non-Null Count  Dtype  \n",
      "---  ------                        --------------  -----  \n",
      " 0   parcelid                      4998 non-null   int64  \n",
      " 1   propertylandusetypeid         4998 non-null   float64\n",
      " 2   heatingorsystemtypeid         4998 non-null   float64\n",
      " 3   id                            4998 non-null   int64  \n",
      " 4   bathroomcnt                   4998 non-null   float64\n",
      " 5   bedroomcnt                    4998 non-null   float64\n",
      " 6   buildingqualitytypeid         4998 non-null   float64\n",
      " 7   calculatedbathnbr             4998 non-null   float64\n",
      " 8   calculatedfinishedsquarefeet  4998 non-null   float64\n",
      " 9   finishedsquarefeet12          4998 non-null   float64\n",
      " 10  fips                          4998 non-null   float64\n",
      " 11  fullbathcnt                   4998 non-null   float64\n",
      " 12  latitude                      4998 non-null   float64\n",
      " 13  longitude                     4998 non-null   float64\n",
      " 14  lotsizesquarefeet             4998 non-null   float64\n",
      " 15  propertycountylandusecode     4998 non-null   object \n",
      " 16  rawcensustractandblock        4998 non-null   float64\n",
      " 17  roomcnt                       4998 non-null   float64\n",
      " 18  unitcnt                       4998 non-null   float64\n",
      " 19  yearbuilt                     4983 non-null   float64\n",
      " 20  structuretaxvaluedollarcnt    4998 non-null   float64\n",
      " 21  taxvaluedollarcnt             4998 non-null   float64\n",
      " 22  assessmentyear                4998 non-null   float64\n",
      " 23  landtaxvaluedollarcnt         4998 non-null   float64\n",
      " 24  taxamount                     4998 non-null   float64\n",
      " 25  censustractandblock           4998 non-null   float64\n",
      " 26  id                            4998 non-null   int64  \n",
      " 27  logerror                      4998 non-null   float64\n",
      " 28  transactiondate               4998 non-null   object \n",
      " 29  propertylandusedesc           4998 non-null   object \n",
      "dtypes: float64(24), int64(3), object(3)\n",
      "memory usage: 1.2+ MB\n"
     ]
    }
   ],
   "source": [
    "df.info()"
   ]
  },
  {
   "cell_type": "code",
   "execution_count": 29,
   "id": "4e2afbf5",
   "metadata": {},
   "outputs": [],
   "source": [
    "df['age'] = date.today().year - df.yearbuilt\n",
    "df = df.drop(columns=['yearbuilt'])"
   ]
  },
  {
   "cell_type": "code",
   "execution_count": 30,
   "id": "35d6b2f2",
   "metadata": {},
   "outputs": [
    {
     "name": "stdout",
     "output_type": "stream",
     "text": [
      "<class 'pandas.core.frame.DataFrame'>\n",
      "Int64Index: 4998 entries, 1113 to 41622\n",
      "Data columns (total 30 columns):\n",
      " #   Column                        Non-Null Count  Dtype  \n",
      "---  ------                        --------------  -----  \n",
      " 0   parcelid                      4998 non-null   int64  \n",
      " 1   propertylandusetypeid         4998 non-null   float64\n",
      " 2   heatingorsystemtypeid         4998 non-null   float64\n",
      " 3   id                            4998 non-null   int64  \n",
      " 4   bathroomcnt                   4998 non-null   float64\n",
      " 5   bedroomcnt                    4998 non-null   float64\n",
      " 6   buildingqualitytypeid         4998 non-null   float64\n",
      " 7   calculatedbathnbr             4998 non-null   float64\n",
      " 8   calculatedfinishedsquarefeet  4998 non-null   float64\n",
      " 9   finishedsquarefeet12          4998 non-null   float64\n",
      " 10  fips                          4998 non-null   float64\n",
      " 11  fullbathcnt                   4998 non-null   float64\n",
      " 12  latitude                      4998 non-null   float64\n",
      " 13  longitude                     4998 non-null   float64\n",
      " 14  lotsizesquarefeet             4998 non-null   float64\n",
      " 15  propertycountylandusecode     4998 non-null   object \n",
      " 16  rawcensustractandblock        4998 non-null   float64\n",
      " 17  roomcnt                       4998 non-null   float64\n",
      " 18  unitcnt                       4998 non-null   float64\n",
      " 19  structuretaxvaluedollarcnt    4998 non-null   float64\n",
      " 20  taxvaluedollarcnt             4998 non-null   float64\n",
      " 21  assessmentyear                4998 non-null   float64\n",
      " 22  landtaxvaluedollarcnt         4998 non-null   float64\n",
      " 23  taxamount                     4998 non-null   float64\n",
      " 24  censustractandblock           4998 non-null   float64\n",
      " 25  id                            4998 non-null   int64  \n",
      " 26  logerror                      4998 non-null   float64\n",
      " 27  transactiondate               4998 non-null   object \n",
      " 28  propertylandusedesc           4998 non-null   object \n",
      " 29  age                           4983 non-null   float64\n",
      "dtypes: float64(24), int64(3), object(3)\n",
      "memory usage: 1.2+ MB\n"
     ]
    }
   ],
   "source": [
    "df.info()"
   ]
  },
  {
   "cell_type": "code",
   "execution_count": 31,
   "id": "a6fcf121",
   "metadata": {},
   "outputs": [],
   "source": [
    "df['age'] = df.age.fillna(value = df['age'].mean())"
   ]
  },
  {
   "cell_type": "code",
   "execution_count": 32,
   "id": "be9398d7",
   "metadata": {},
   "outputs": [
    {
     "name": "stdout",
     "output_type": "stream",
     "text": [
      "<class 'pandas.core.frame.DataFrame'>\n",
      "Int64Index: 4998 entries, 1113 to 41622\n",
      "Data columns (total 30 columns):\n",
      " #   Column                        Non-Null Count  Dtype  \n",
      "---  ------                        --------------  -----  \n",
      " 0   parcelid                      4998 non-null   int64  \n",
      " 1   propertylandusetypeid         4998 non-null   float64\n",
      " 2   heatingorsystemtypeid         4998 non-null   float64\n",
      " 3   id                            4998 non-null   int64  \n",
      " 4   bathroomcnt                   4998 non-null   float64\n",
      " 5   bedroomcnt                    4998 non-null   float64\n",
      " 6   buildingqualitytypeid         4998 non-null   float64\n",
      " 7   calculatedbathnbr             4998 non-null   float64\n",
      " 8   calculatedfinishedsquarefeet  4998 non-null   float64\n",
      " 9   finishedsquarefeet12          4998 non-null   float64\n",
      " 10  fips                          4998 non-null   float64\n",
      " 11  fullbathcnt                   4998 non-null   float64\n",
      " 12  latitude                      4998 non-null   float64\n",
      " 13  longitude                     4998 non-null   float64\n",
      " 14  lotsizesquarefeet             4998 non-null   float64\n",
      " 15  propertycountylandusecode     4998 non-null   object \n",
      " 16  rawcensustractandblock        4998 non-null   float64\n",
      " 17  roomcnt                       4998 non-null   float64\n",
      " 18  unitcnt                       4998 non-null   float64\n",
      " 19  structuretaxvaluedollarcnt    4998 non-null   float64\n",
      " 20  taxvaluedollarcnt             4998 non-null   float64\n",
      " 21  assessmentyear                4998 non-null   float64\n",
      " 22  landtaxvaluedollarcnt         4998 non-null   float64\n",
      " 23  taxamount                     4998 non-null   float64\n",
      " 24  censustractandblock           4998 non-null   float64\n",
      " 25  id                            4998 non-null   int64  \n",
      " 26  logerror                      4998 non-null   float64\n",
      " 27  transactiondate               4998 non-null   object \n",
      " 28  propertylandusedesc           4998 non-null   object \n",
      " 29  age                           4998 non-null   float64\n",
      "dtypes: float64(24), int64(3), object(3)\n",
      "memory usage: 1.2+ MB\n"
     ]
    }
   ],
   "source": [
    "df.info()"
   ]
  },
  {
   "cell_type": "code",
   "execution_count": 38,
   "id": "162a07dc",
   "metadata": {},
   "outputs": [],
   "source": [
    "def train_validate_test_split(df):\n",
    "    train_validate, test = train_test_split(df, test_size=0.2, random_state=123, stratify=df['logerror'])\n",
    "    train, validate = train_test_split(train_validate, test_size=0.3, random_state=123, stratify=train_validate['logerror'])\n",
    "    return train, validate, test"
   ]
  },
  {
   "cell_type": "code",
   "execution_count": 39,
   "id": "9a3986c5",
   "metadata": {},
   "outputs": [
    {
     "ename": "ValueError",
     "evalue": "The least populated class in y has only 1 member, which is too few. The minimum number of groups for any class cannot be less than 2.",
     "output_type": "error",
     "traceback": [
      "\u001b[0;31m---------------------------------------------------------------------------\u001b[0m",
      "\u001b[0;31mValueError\u001b[0m                                Traceback (most recent call last)",
      "\u001b[0;32m<ipython-input-39-c4b1937dff88>\u001b[0m in \u001b[0;36m<module>\u001b[0;34m\u001b[0m\n\u001b[0;32m----> 1\u001b[0;31m \u001b[0mdf\u001b[0m \u001b[0;34m=\u001b[0m \u001b[0mtrain_validate_test_split\u001b[0m\u001b[0;34m(\u001b[0m\u001b[0mdf\u001b[0m\u001b[0;34m)\u001b[0m\u001b[0;34m\u001b[0m\u001b[0;34m\u001b[0m\u001b[0m\n\u001b[0m",
      "\u001b[0;32m<ipython-input-38-cfcb0e88a3b0>\u001b[0m in \u001b[0;36mtrain_validate_test_split\u001b[0;34m(df)\u001b[0m\n\u001b[1;32m      1\u001b[0m \u001b[0;32mdef\u001b[0m \u001b[0mtrain_validate_test_split\u001b[0m\u001b[0;34m(\u001b[0m\u001b[0mdf\u001b[0m\u001b[0;34m)\u001b[0m\u001b[0;34m:\u001b[0m\u001b[0;34m\u001b[0m\u001b[0;34m\u001b[0m\u001b[0m\n\u001b[0;32m----> 2\u001b[0;31m     \u001b[0mtrain_validate\u001b[0m\u001b[0;34m,\u001b[0m \u001b[0mtest\u001b[0m \u001b[0;34m=\u001b[0m \u001b[0mtrain_test_split\u001b[0m\u001b[0;34m(\u001b[0m\u001b[0mdf\u001b[0m\u001b[0;34m,\u001b[0m \u001b[0mtest_size\u001b[0m\u001b[0;34m=\u001b[0m\u001b[0;36m0.2\u001b[0m\u001b[0;34m,\u001b[0m \u001b[0mrandom_state\u001b[0m\u001b[0;34m=\u001b[0m\u001b[0;36m123\u001b[0m\u001b[0;34m,\u001b[0m \u001b[0mstratify\u001b[0m\u001b[0;34m=\u001b[0m\u001b[0mdf\u001b[0m\u001b[0;34m[\u001b[0m\u001b[0;34m'logerror'\u001b[0m\u001b[0;34m]\u001b[0m\u001b[0;34m)\u001b[0m\u001b[0;34m\u001b[0m\u001b[0;34m\u001b[0m\u001b[0m\n\u001b[0m\u001b[1;32m      3\u001b[0m     \u001b[0mtrain\u001b[0m\u001b[0;34m,\u001b[0m \u001b[0mvalidate\u001b[0m \u001b[0;34m=\u001b[0m \u001b[0mtrain_test_split\u001b[0m\u001b[0;34m(\u001b[0m\u001b[0mtrain_validate\u001b[0m\u001b[0;34m,\u001b[0m \u001b[0mtest_size\u001b[0m\u001b[0;34m=\u001b[0m\u001b[0;36m0.3\u001b[0m\u001b[0;34m,\u001b[0m \u001b[0mrandom_state\u001b[0m\u001b[0;34m=\u001b[0m\u001b[0;36m123\u001b[0m\u001b[0;34m,\u001b[0m \u001b[0mstratify\u001b[0m\u001b[0;34m=\u001b[0m\u001b[0mtrain_validate\u001b[0m\u001b[0;34m[\u001b[0m\u001b[0;34m'logerror'\u001b[0m\u001b[0;34m]\u001b[0m\u001b[0;34m)\u001b[0m\u001b[0;34m\u001b[0m\u001b[0;34m\u001b[0m\u001b[0m\n\u001b[1;32m      4\u001b[0m     \u001b[0;32mreturn\u001b[0m \u001b[0mtrain\u001b[0m\u001b[0;34m,\u001b[0m \u001b[0mvalidate\u001b[0m\u001b[0;34m,\u001b[0m \u001b[0mtest\u001b[0m\u001b[0;34m\u001b[0m\u001b[0;34m\u001b[0m\u001b[0m\n",
      "\u001b[0;32m/usr/local/anaconda3/lib/python3.8/site-packages/sklearn/model_selection/_split.py\u001b[0m in \u001b[0;36mtrain_test_split\u001b[0;34m(test_size, train_size, random_state, shuffle, stratify, *arrays)\u001b[0m\n\u001b[1;32m   2195\u001b[0m                      random_state=random_state)\n\u001b[1;32m   2196\u001b[0m \u001b[0;34m\u001b[0m\u001b[0m\n\u001b[0;32m-> 2197\u001b[0;31m         \u001b[0mtrain\u001b[0m\u001b[0;34m,\u001b[0m \u001b[0mtest\u001b[0m \u001b[0;34m=\u001b[0m \u001b[0mnext\u001b[0m\u001b[0;34m(\u001b[0m\u001b[0mcv\u001b[0m\u001b[0;34m.\u001b[0m\u001b[0msplit\u001b[0m\u001b[0;34m(\u001b[0m\u001b[0mX\u001b[0m\u001b[0;34m=\u001b[0m\u001b[0marrays\u001b[0m\u001b[0;34m[\u001b[0m\u001b[0;36m0\u001b[0m\u001b[0;34m]\u001b[0m\u001b[0;34m,\u001b[0m \u001b[0my\u001b[0m\u001b[0;34m=\u001b[0m\u001b[0mstratify\u001b[0m\u001b[0;34m)\u001b[0m\u001b[0;34m)\u001b[0m\u001b[0;34m\u001b[0m\u001b[0;34m\u001b[0m\u001b[0m\n\u001b[0m\u001b[1;32m   2198\u001b[0m \u001b[0;34m\u001b[0m\u001b[0m\n\u001b[1;32m   2199\u001b[0m     return list(chain.from_iterable((_safe_indexing(a, train),\n",
      "\u001b[0;32m/usr/local/anaconda3/lib/python3.8/site-packages/sklearn/model_selection/_split.py\u001b[0m in \u001b[0;36msplit\u001b[0;34m(self, X, y, groups)\u001b[0m\n\u001b[1;32m   1385\u001b[0m         \"\"\"\n\u001b[1;32m   1386\u001b[0m         \u001b[0mX\u001b[0m\u001b[0;34m,\u001b[0m \u001b[0my\u001b[0m\u001b[0;34m,\u001b[0m \u001b[0mgroups\u001b[0m \u001b[0;34m=\u001b[0m \u001b[0mindexable\u001b[0m\u001b[0;34m(\u001b[0m\u001b[0mX\u001b[0m\u001b[0;34m,\u001b[0m \u001b[0my\u001b[0m\u001b[0;34m,\u001b[0m \u001b[0mgroups\u001b[0m\u001b[0;34m)\u001b[0m\u001b[0;34m\u001b[0m\u001b[0;34m\u001b[0m\u001b[0m\n\u001b[0;32m-> 1387\u001b[0;31m         \u001b[0;32mfor\u001b[0m \u001b[0mtrain\u001b[0m\u001b[0;34m,\u001b[0m \u001b[0mtest\u001b[0m \u001b[0;32min\u001b[0m \u001b[0mself\u001b[0m\u001b[0;34m.\u001b[0m\u001b[0m_iter_indices\u001b[0m\u001b[0;34m(\u001b[0m\u001b[0mX\u001b[0m\u001b[0;34m,\u001b[0m \u001b[0my\u001b[0m\u001b[0;34m,\u001b[0m \u001b[0mgroups\u001b[0m\u001b[0;34m)\u001b[0m\u001b[0;34m:\u001b[0m\u001b[0;34m\u001b[0m\u001b[0;34m\u001b[0m\u001b[0m\n\u001b[0m\u001b[1;32m   1388\u001b[0m             \u001b[0;32myield\u001b[0m \u001b[0mtrain\u001b[0m\u001b[0;34m,\u001b[0m \u001b[0mtest\u001b[0m\u001b[0;34m\u001b[0m\u001b[0;34m\u001b[0m\u001b[0m\n\u001b[1;32m   1389\u001b[0m \u001b[0;34m\u001b[0m\u001b[0m\n",
      "\u001b[0;32m/usr/local/anaconda3/lib/python3.8/site-packages/sklearn/model_selection/_split.py\u001b[0m in \u001b[0;36m_iter_indices\u001b[0;34m(self, X, y, groups)\u001b[0m\n\u001b[1;32m   1713\u001b[0m         \u001b[0mclass_counts\u001b[0m \u001b[0;34m=\u001b[0m \u001b[0mnp\u001b[0m\u001b[0;34m.\u001b[0m\u001b[0mbincount\u001b[0m\u001b[0;34m(\u001b[0m\u001b[0my_indices\u001b[0m\u001b[0;34m)\u001b[0m\u001b[0;34m\u001b[0m\u001b[0;34m\u001b[0m\u001b[0m\n\u001b[1;32m   1714\u001b[0m         \u001b[0;32mif\u001b[0m \u001b[0mnp\u001b[0m\u001b[0;34m.\u001b[0m\u001b[0mmin\u001b[0m\u001b[0;34m(\u001b[0m\u001b[0mclass_counts\u001b[0m\u001b[0;34m)\u001b[0m \u001b[0;34m<\u001b[0m \u001b[0;36m2\u001b[0m\u001b[0;34m:\u001b[0m\u001b[0;34m\u001b[0m\u001b[0;34m\u001b[0m\u001b[0m\n\u001b[0;32m-> 1715\u001b[0;31m             raise ValueError(\"The least populated class in y has only 1\"\n\u001b[0m\u001b[1;32m   1716\u001b[0m                              \u001b[0;34m\" member, which is too few. The minimum\"\u001b[0m\u001b[0;34m\u001b[0m\u001b[0;34m\u001b[0m\u001b[0m\n\u001b[1;32m   1717\u001b[0m                              \u001b[0;34m\" number of groups for any class cannot\"\u001b[0m\u001b[0;34m\u001b[0m\u001b[0;34m\u001b[0m\u001b[0m\n",
      "\u001b[0;31mValueError\u001b[0m: The least populated class in y has only 1 member, which is too few. The minimum number of groups for any class cannot be less than 2."
     ]
    }
   ],
   "source": [
    "df = train_validate_test_split(df)"
   ]
  },
  {
   "cell_type": "markdown",
   "id": "85b6cc02",
   "metadata": {},
   "source": [
    "1. Ask at least 5 questions about the data, keeping in mind that your target variable is logerror. e.g. Is logerror significantly different for properties in LA County vs Orange County vs Ventura County?"
   ]
  },
  {
   "cell_type": "code",
   "execution_count": null,
   "id": "2dd614e4",
   "metadata": {},
   "outputs": [],
   "source": []
  },
  {
   "cell_type": "markdown",
   "id": "11860933",
   "metadata": {},
   "source": [
    "2. Answer those questions through a mix of statistical tests and visualizations."
   ]
  },
  {
   "cell_type": "code",
   "execution_count": null,
   "id": "118d8810",
   "metadata": {},
   "outputs": [],
   "source": []
  }
 ],
 "metadata": {
  "kernelspec": {
   "display_name": "Python 3",
   "language": "python",
   "name": "python3"
  },
  "language_info": {
   "codemirror_mode": {
    "name": "ipython",
    "version": 3
   },
   "file_extension": ".py",
   "mimetype": "text/x-python",
   "name": "python",
   "nbconvert_exporter": "python",
   "pygments_lexer": "ipython3",
   "version": "3.8.8"
  }
 },
 "nbformat": 4,
 "nbformat_minor": 5
}
