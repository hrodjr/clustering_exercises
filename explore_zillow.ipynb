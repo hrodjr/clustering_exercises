{
 "cells": [
  {
   "cell_type": "markdown",
   "id": "85b6cc02",
   "metadata": {},
   "source": [
    "1. Ask at least 5 questions about the data, keeping in mind that your target variable is logerror. e.g. Is logerror significantly different for properties in LA County vs Orange County vs Ventura County?"
   ]
  },
  {
   "cell_type": "code",
   "execution_count": null,
   "id": "2dd614e4",
   "metadata": {},
   "outputs": [],
   "source": []
  },
  {
   "cell_type": "markdown",
   "id": "11860933",
   "metadata": {},
   "source": [
    "2. Answer those questions through a mix of statistical tests and visualizations."
   ]
  },
  {
   "cell_type": "code",
   "execution_count": null,
   "id": "118d8810",
   "metadata": {},
   "outputs": [],
   "source": []
  }
 ],
 "metadata": {
  "kernelspec": {
   "display_name": "Python 3",
   "language": "python",
   "name": "python3"
  },
  "language_info": {
   "codemirror_mode": {
    "name": "ipython",
    "version": 3
   },
   "file_extension": ".py",
   "mimetype": "text/x-python",
   "name": "python",
   "nbconvert_exporter": "python",
   "pygments_lexer": "ipython3",
   "version": "3.8.8"
  }
 },
 "nbformat": 4,
 "nbformat_minor": 5
}
